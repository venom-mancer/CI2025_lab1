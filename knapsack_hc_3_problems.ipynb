{
 "cells": [
  {
   "cell_type": "markdown",
   "id": "16e6533c",
   "metadata": {},
   "source": [
    "# Multi‑Knapsack, Multi‑Dimensional — Hill Climbing for 3 Variants\n",
    "\n"
   ]
  },
  {
   "cell_type": "markdown",
   "id": "ea5688ef",
   "metadata": {},
   "source": [
    "## Setup: instance generation"
   ]
  },
  {
   "cell_type": "code",
   "execution_count": 1,
   "id": "dd63e92c",
   "metadata": {},
   "outputs": [
    {
     "name": "stdout",
     "output_type": "stream",
     "text": [
      "VALUES: [61 24 81 70 30 92 96 84 84 97 33 12 31 62 11 97]\n",
      "WEIGHTS:\n",
      " [[34  6]\n",
      " [25 37]\n",
      " [16 26]\n",
      " [29 31]\n",
      " [32 20]\n",
      " [19  7]\n",
      " [11 25]\n",
      " [13 22]\n",
      " [ 8 29]\n",
      " [18 13]\n",
      " [30  6]\n",
      " [24 32]\n",
      " [11 12]\n",
      " [39 18]\n",
      " [21  8]\n",
      " [ 6 10]]\n",
      "CONSTRAINTS:\n",
      " [[173 123]\n",
      " [173 182]\n",
      " [137 163]]\n"
     ]
    }
   ],
   "source": [
    "import numpy as np\n",
    "import matplotlib.pyplot as plt\n",
    "\n",
    "np.random.seed(42)\n",
    "\n",
    "NUM_KNAPSACKS = 3\n",
    "NUM_ITEMS = 16\n",
    "NUM_DIMENSIONS = 2\n",
    "\n",
    "VALUES = np.random.randint(10, 100, size=NUM_ITEMS)\n",
    "WEIGHTS = np.random.randint(5, 40, size=(NUM_ITEMS, NUM_DIMENSIONS))\n",
    "CONSTRAINTS = np.random.randint(120, 200, size=(NUM_KNAPSACKS, NUM_DIMENSIONS))\n",
    "\n",
    "print('VALUES:', VALUES)\n",
    "print('WEIGHTS:\\n', WEIGHTS)\n",
    "print('CONSTRAINTS:\\n', CONSTRAINTS)\n"
   ]
  },
  {
   "cell_type": "markdown",
   "id": "452921a3",
   "metadata": {},
   "source": [
    "## Common helpers"
   ]
  },
  {
   "cell_type": "code",
   "execution_count": 2,
   "id": "46b429db",
   "metadata": {},
   "outputs": [],
   "source": [
    "def usage_from_bool(assign_bool, weights):\n",
    "    \"\"\"Per‑knapsack usage for boolean assignment (K,N).\"\"\"\n",
    "    K = assign_bool.shape[0]\n",
    "    D = weights.shape[1]\n",
    "    used = np.zeros((K, D), dtype=float)\n",
    "    for k in range(K):\n",
    "        if assign_bool[k].any():\n",
    "            used[k] = weights[assign_bool[k]].sum(axis=0)\n",
    "    return used\n",
    "\n",
    "def feasible_bool(assign_bool, weights, constraints):\n",
    "    if np.any(assign_bool.sum(axis=0) > 1):\n",
    "        return False\n",
    "    used = usage_from_bool(assign_bool, weights)\n",
    "    return bool(np.all(used <= constraints + 1e-9))\n",
    "\n",
    "def value_bool(assign_bool, values):\n",
    "    return int((assign_bool * values).sum())\n",
    "\n",
    "def feasible_fractional(frac_assign, weights, constraints):\n",
    "    # per‑item total fraction ≤ 1\n",
    "    if np.any(frac_assign.sum(axis=0) > 1 + 1e-9):\n",
    "        return False\n",
    "    # per‑knapsack per‑dimension usage\n",
    "    used = (frac_assign[:, :, None] * weights[None, :, :]).sum(axis=1)\n",
    "    return bool(np.all(used <= constraints + 1e-9))\n",
    "\n",
    "def value_fractional(frac_assign, values):\n",
    "    return float((frac_assign * values).sum())\n",
    "\n",
    "def usage_from_counts(counts, weights):\n",
    "    # counts: (K,N) int\n",
    "    return (counts[:, :, None] * weights[None, :, :]).sum(axis=1)\n",
    "\n",
    "def feasible_counts(counts, weights, constraints):\n",
    "    return bool(np.all(usage_from_counts(counts, weights) <= constraints + 1e-9))\n",
    "\n",
    "def value_counts(counts, values):\n",
    "    return int((counts * values).sum())\n"
   ]
  },
  {
   "cell_type": "markdown",
   "id": "1b8e2ca9",
   "metadata": {},
   "source": [
    "## Variant 1: 0/1 multi‑knapsack — Hill Climbing"
   ]
  },
  {
   "cell_type": "code",
   "execution_count": 3,
   "id": "c1a97478",
   "metadata": {},
   "outputs": [
    {
     "name": "stdout",
     "output_type": "stream",
     "text": [
      "0/1 Hill Climbing total value: 965\n",
      "0/1 items per knapsack: [[0, 5, 6, 7, 8, 9, 13], [1, 2, 3, 10, 11, 12, 14], [4, 15]]\n"
     ]
    }
   ],
   "source": [
    "def random_bool_solution(K, N, p=0.35):\n",
    "    sol = np.zeros((K, N), dtype=bool)\n",
    "    for i in range(N):\n",
    "        if np.random.random() < p:\n",
    "            k = np.random.randint(0, K)\n",
    "            sol[k, i] = True\n",
    "    return sol\n",
    "\n",
    "def repair_bool(sol, weights, constraints, values):\n",
    "    # fix duplicates (keep knapsack with more residual space)\n",
    "    K, N = sol.shape\n",
    "    for i in range(N):\n",
    "        ks = np.where(sol[:, i])[0]\n",
    "        if ks.size > 1:\n",
    "            best_k = None; best_margin = -1e18\n",
    "            for k in ks:\n",
    "                used_k = weights[sol[k]].sum(axis=0) if sol[k].any() else np.zeros(weights.shape[1])\n",
    "                margin = (constraints[k] - used_k)\n",
    "                score = margin.sum()\n",
    "                if score > best_margin:\n",
    "                    best_margin = score; best_k = k\n",
    "            sol[ks, i] = False\n",
    "            sol[best_k, i] = True\n",
    "    # drop worst density items until capacity holds\n",
    "    dens = values / (weights.sum(axis=1))\n",
    "    for k in range(K):\n",
    "        while True:\n",
    "            if not sol[k].any(): break\n",
    "            used = weights[sol[k]].sum(axis=0)\n",
    "            if np.all(used <= constraints[k]): break\n",
    "            idx = np.where(sol[k])[0]\n",
    "            worst = idx[np.argmin(dens[idx])]\n",
    "            sol[k, worst] = False\n",
    "    return sol\n",
    "\n",
    "def neighbor_bool_first_improve(sol, weights, constraints, values):\n",
    "    K, N = sol.shape\n",
    "    base = value_bool(sol, values)\n",
    "    # try insertions\n",
    "    unassigned = np.where(sol.sum(axis=0) == 0)[0]\n",
    "    for i in unassigned[np.argsort(-values[unassigned])]:\n",
    "        for k in range(K):\n",
    "            used_k = weights[sol[k]].sum(axis=0) if sol[k].any() else np.zeros(weights.shape[1])\n",
    "            if np.all(used_k + weights[i] <= constraints[k]):\n",
    "                cand = sol.copy(); cand[k, i] = True\n",
    "                val = value_bool(cand, values)\n",
    "                if val > base: return cand\n",
    "    # try moves\n",
    "    for i in np.argsort(-values):\n",
    "        src = np.where(sol[:, i])[0]\n",
    "        if src.size == 0: continue\n",
    "        k1 = int(src[0])\n",
    "        for k2 in range(K):\n",
    "            if k1 == k2: continue\n",
    "            used_k2 = weights[sol[k2]].sum(axis=0) if sol[k2].any() else np.zeros(weights.shape[1])\n",
    "            if np.all(used_k2 + weights[i] <= constraints[k2]):\n",
    "                cand = sol.copy(); cand[k1, i] = False; cand[k2, i] = True\n",
    "                val = value_bool(cand, values)\n",
    "                if val > base: return cand\n",
    "    # try swaps\n",
    "    for k1 in range(K):\n",
    "        items1 = np.where(sol[k1])[0]\n",
    "        for k2 in range(k1+1, K):\n",
    "            items2 = np.where(sol[k2])[0]\n",
    "            for i in items1:\n",
    "                for j in items2:\n",
    "                    cand = sol.copy()\n",
    "                    cand[k1, i] = False; cand[k2, j] = False\n",
    "                    used1 = weights[cand[k1]].sum(axis=0) if cand[k1].any() else np.zeros(weights.shape[1])\n",
    "                    used2 = weights[cand[k2]].sum(axis=0) if cand[k2].any() else np.zeros(weights.shape[1])\n",
    "                    if np.all(used1 + weights[j] <= constraints[k1]) and np.all(used2 + weights[i] <= constraints[k2]):\n",
    "                        cand[k1, j] = True; cand[k2, i] = True\n",
    "                        val = value_bool(cand, values)\n",
    "                        if val > base: return cand\n",
    "    return None\n",
    "\n",
    "def hc_bool(values, weights, constraints, max_iters=4000, restarts=4, p_start=0.35):\n",
    "    K, N = constraints.shape[0], values.shape[0]\n",
    "    best_sol, best_val = None, -1\n",
    "    for _ in range(restarts):\n",
    "        sol = random_bool_solution(K, N, p=p_start)\n",
    "        sol = repair_bool(sol, weights, constraints, values)\n",
    "        # climb\n",
    "        it = 0\n",
    "        while it < max_iters:\n",
    "            it += 1\n",
    "            neigh = neighbor_bool_first_improve(sol, weights, constraints, values)\n",
    "            if neigh is None: break\n",
    "            sol = neigh\n",
    "        val = value_bool(sol, values)\n",
    "        if val > best_val:\n",
    "            best_val = val; best_sol = sol\n",
    "    return best_sol, best_val\n",
    "\n",
    "sol01, val01 = hc_bool(VALUES, WEIGHTS, CONSTRAINTS)\n",
    "print('0/1 Hill Climbing total value:', val01)\n",
    "print('0/1 items per knapsack:', [np.where(sol01[k])[0].tolist() for k in range(NUM_KNAPSACKS)])\n"
   ]
  },
  {
   "cell_type": "markdown",
   "id": "0f50d4de",
   "metadata": {},
   "source": [
    "## Variant 2: Fractional multi‑knapsack — Hill Climbing on a discretized grid"
   ]
  },
  {
   "cell_type": "code",
   "execution_count": 4,
   "id": "48d5a086",
   "metadata": {},
   "outputs": [
    {
     "name": "stdout",
     "output_type": "stream",
     "text": [
      "Fractional HC total value: 965.0\n",
      "Fractional non‑zero entries (k: [(i, frac), ...]): [{0: [(0, 0.2), (2, 0.6), (5, 0.9999999999999999), (6, 0.8999999999999999), (7, 0.9999999999999999), (8, 0.9999999999999999), (9, 0.9999999999999999), (15, 0.9999999999999999)]}, {1: [(0, 0.7999999999999999), (2, 0.4), (3, 0.9999999999999999), (4, 0.8999999999999999), (6, 0.1), (10, 0.9999999999999999), (12, 0.9999999999999999), (13, 0.9999999999999999)]}, {2: [(1, 0.9999999999999999), (4, 0.1), (11, 0.9999999999999999), (14, 0.9999999999999999)]}]\n"
     ]
    }
   ],
   "source": [
    "def hc_fractional(values, weights, constraints, step=0.1, max_iters=6000):\n",
    "    # frac_assign: (K,N) in [0,1], sum_k frac[k,i] ≤ 1\n",
    "    K, N = constraints.shape[0], values.shape[0]\n",
    "    frac = np.zeros((K, N), dtype=float)\n",
    "\n",
    "    def feasible(fr):\n",
    "        return feasible_fractional(fr, weights, constraints)\n",
    "\n",
    "    def neighbors_first(fr):\n",
    "        base = value_fractional(fr, values)\n",
    "        # try add step to some (k,i)\n",
    "        for i in np.argsort(-values):\n",
    "            # capacity headroom per knapsack\n",
    "            for k in range(K):\n",
    "                if fr[:, i].sum() >= 1 - 1e-9:  # item fully assigned\n",
    "                    continue\n",
    "                # attempt +step\n",
    "                add = min(step, 1 - fr[:, i].sum())\n",
    "                if add <= 0: continue\n",
    "                cand = fr.copy()\n",
    "                cand[k, i] += add\n",
    "                if not feasible(cand):\n",
    "                    continue\n",
    "                val = value_fractional(cand, values)\n",
    "                if val > base: return cand\n",
    "        # try move step from k1 to k2 for an item\n",
    "        for i in np.argsort(-values):\n",
    "            for k1 in range(K):\n",
    "                if fr[k1, i] <= 1e-12: continue\n",
    "                for k2 in range(K):\n",
    "                    if k1 == k2: continue\n",
    "                    move = min(step, fr[k1, i])\n",
    "                    cand = fr.copy()\n",
    "                    cand[k1, i] -= move\n",
    "                    cand[k2, i] += move\n",
    "                    if not feasible(cand):\n",
    "                        continue\n",
    "                    val = value_fractional(cand, values)\n",
    "                    if val > value_fractional(fr, values):\n",
    "                        return cand\n",
    "        # try remove small step to free capacity for future moves (not improving step skipped here)\n",
    "        return None\n",
    "\n",
    "    it = 0\n",
    "    while it < max_iters:\n",
    "        it += 1\n",
    "        neigh = neighbors_first(frac)\n",
    "        if neigh is None:\n",
    "            break\n",
    "        frac = neigh\n",
    "\n",
    "    return frac, value_fractional(frac, values)\n",
    "\n",
    "solF, valF = hc_fractional(VALUES, WEIGHTS, CONSTRAINTS, step=0.1)\n",
    "print('Fractional HC total value:', round(valF, 2))\n",
    "print('Fractional non‑zero entries (k: [(i, frac), ...]):',\n",
    "      [{k: [(int(i), float(solF[k,i])) for i in np.where(solF[k]>1e-9)[0]]} for k in range(NUM_KNAPSACKS)])\n"
   ]
  },
  {
   "cell_type": "markdown",
   "id": "90b9a1f3",
   "metadata": {},
   "source": [
    "## Variant 3: Unbounded multi‑knapsack — Hill Climbing over integer counts"
   ]
  },
  {
   "cell_type": "code",
   "execution_count": 5,
   "id": "e238d454",
   "metadata": {},
   "outputs": [
    {
     "name": "stdout",
     "output_type": "stream",
     "text": [
      "Unbounded HC total value: 4462\n",
      "Unbounded non‑zero counts per knapsack: [{15: 12}, {15: 18}, {15: 16}]\n"
     ]
    }
   ],
   "source": [
    "def hc_unbounded(values, weights, constraints, max_iters=8000):\n",
    "    K, N = constraints.shape[0], values.shape[0]\n",
    "    counts = np.zeros((K, N), dtype=int)\n",
    "\n",
    "    def neighbors_first(cnt):\n",
    "        base = value_counts(cnt, values)\n",
    "        # try increments\n",
    "        for i in np.argsort(-values):\n",
    "            for k in range(K):\n",
    "                cand = cnt.copy(); cand[k, i] += 1\n",
    "                if feasible_counts(cand, weights, constraints):\n",
    "                    val = value_counts(cand, values)\n",
    "                    if val > base: return cand\n",
    "        # try swaps: remove one of low value, add one of high value\n",
    "        order_low = np.argsort(values)\n",
    "        order_high = np.argsort(-values)\n",
    "        for k in range(K):\n",
    "            for i in order_low:\n",
    "                if cnt[k, i] <= 0: continue\n",
    "                for j in order_high:\n",
    "                    if j == i: continue\n",
    "                    cand = cnt.copy()\n",
    "                    cand[k, i] -= 1\n",
    "                    cand[k, j] += 1\n",
    "                    if feasible_counts(cand, weights, constraints):\n",
    "                        val = value_counts(cand, values)\n",
    "                        if val > base: return cand\n",
    "        return None\n",
    "\n",
    "    it = 0\n",
    "    while it < max_iters:\n",
    "        it += 1\n",
    "        neigh = neighbors_first(counts)\n",
    "        if neigh is None:\n",
    "            break\n",
    "        counts = neigh\n",
    "\n",
    "    return counts, value_counts(counts, values)\n",
    "\n",
    "solU, valU = hc_unbounded(VALUES, WEIGHTS, CONSTRAINTS)\n",
    "print('Unbounded HC total value:', valU)\n",
    "print('Unbounded non‑zero counts per knapsack:',\n",
    "      [dict((int(i), int(c)) for i, c in enumerate(solU[k]) if c>0) for k in range(NUM_KNAPSACKS)])\n"
   ]
  },
  {
   "cell_type": "markdown",
   "id": "9632e86e",
   "metadata": {},
   "source": [
    "## Results & Comparison Plot"
   ]
  },
  {
   "cell_type": "code",
   "execution_count": 6,
   "id": "11749806",
   "metadata": {},
   "outputs": [
    {
     "name": "stdout",
     "output_type": "stream",
     "text": [
      "==== SUMMARY ====\n",
      "0/1 HC value:       965\n",
      "Fractional HC value:965.00\n",
      "Unbounded HC value: 4462\n"
     ]
    },
    {
     "data": {
      "image/png": "[encoded data removed]",
      "text/plain": [
       "<Figure size 640x480 with 1 Axes>"
      ]
     },
     "metadata": {},
     "output_type": "display_data"
    }
   ],
   "source": [
    "print('==== SUMMARY ====')\n",
    "print(f'0/1 HC value:       {val01}')\n",
    "print(f'Fractional HC value:{valF:.2f}')\n",
    "print(f'Unbounded HC value: {valU}')\n",
    "\n",
    "vals01 = (sol01 * VALUES).sum(axis=1)\n",
    "valsF  = (solF  * VALUES).sum(axis=1)\n",
    "valsU  = (solU  * VALUES).sum(axis=1)\n",
    "\n",
    "import numpy as np\n",
    "x = np.arange(NUM_KNAPSACKS)\n",
    "width = 0.25\n",
    "plt.figure()\n",
    "plt.bar(x - width, vals01, width, label='0/1 HC')\n",
    "plt.bar(x,          valsF,  width, label='Fractional HC')\n",
    "plt.bar(x + width,  valsU,  width, label='Unbounded HC')\n",
    "plt.xticks(x)\n",
    "plt.xlabel('Knapsack index')\n",
    "plt.ylabel('Total value')\n",
    "plt.title('Hill Climbing — per‑knapsack totals by variant')\n",
    "plt.legend()\n",
    "plt.show()\n"
   ]
  },
  {
   "cell_type": "code",
   "execution_count": null,
   "id": "2c4eea18-e9f1-4e47-990b-e1e4a29d9566",
   "metadata": {},
   "outputs": [],
   "source": []
  }
 ],
 "metadata": {
  "kernelspec": {
   "display_name": "Python 3 (ipykernel)",
   "language": "python",
   "name": "python3"
  },
  "language_info": {
   "codemirror_mode": {
    "name": "ipython",
    "version": 3
   },
   "file_extension": ".py",
   "mimetype": "text/x-python",
   "name": "python",
   "nbconvert_exporter": "python",
   "pygments_lexer": "ipython3",
   "version": "3.13.1"
  }
 },
 "nbformat": 4,
 "nbformat_minor": 5
}
