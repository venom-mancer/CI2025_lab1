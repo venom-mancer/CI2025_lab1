{
 "cells": [
  {
   "cell_type": "markdown",
   "id": "5519e895",
   "metadata": {},
   "source": [
    "# Knapsack — Multiple Knapsacks & Multidimensional Constraints"
   ]
  },
  {
   "cell_type": "code",
   "execution_count": 1,
   "id": "20290d4d",
   "metadata": {},
   "outputs": [
    {
     "name": "stdout",
     "output_type": "stream",
     "text": [
      "Values: [61 24 81 70 30 92 96 84 84 97]\n",
      "Weights:\n",
      " [[40 44]\n",
      " [28  7]\n",
      " [26  6]\n",
      " [28 48]\n",
      " [34 42]\n",
      " [ 6 25]\n",
      " [37 16]\n",
      " [26 48]\n",
      " [29 31]\n",
      " [46 32]]\n",
      "Constraints:\n",
      " [[139  94]\n",
      " [141 141]]\n"
     ]
    }
   ],
   "source": [
    "\n",
    "# Import libraries\n",
    "import numpy as np\n",
    "import matplotlib.pyplot as plt\n",
    "\n",
    "# Fixed random seed for reproducibility\n",
    "np.random.seed(42)\n",
    "\n",
    "# Parameters\n",
    "NUM_KNAPSACKS = 2\n",
    "NUM_ITEMS = 10\n",
    "NUM_DIMENSIONS = 2\n",
    "\n",
    "# Generate random values and weights\n",
    "VALUES = np.random.randint(10, 100, size=NUM_ITEMS)\n",
    "WEIGHTS = np.random.randint(5, 50, size=(NUM_ITEMS, NUM_DIMENSIONS))\n",
    "CONSTRAINTS = np.random.randint(80, 150, size=(NUM_KNAPSACKS, NUM_DIMENSIONS))\n",
    "\n",
    "print(\"Values:\", VALUES)\n",
    "print(\"Weights:\\n\", WEIGHTS)\n",
    "print(\"Constraints:\\n\", CONSTRAINTS)\n"
   ]
  },
  {
   "cell_type": "code",
   "execution_count": 2,
   "id": "68b6b41c",
   "metadata": {},
   "outputs": [
    {
     "name": "stdout",
     "output_type": "stream",
     "text": [
      "Feasible initial solution: True\n"
     ]
    }
   ],
   "source": [
    "\n",
    "# Generate a random feasible solution (each item in at most one knapsack)\n",
    "solution = np.zeros((NUM_KNAPSACKS, NUM_ITEMS), dtype=bool)\n",
    "for i in range(NUM_ITEMS):\n",
    "    k = np.random.choice(NUM_KNAPSACKS + 1)  # +1 means possibly not included\n",
    "    if k < NUM_KNAPSACKS:\n",
    "        solution[k, i] = True\n",
    "\n",
    "# Check constraints and feasibility\n",
    "def check_feasibility(solution):\n",
    "    valid = True\n",
    "    for k in range(NUM_KNAPSACKS):\n",
    "        if np.any(WEIGHTS[solution[k]].sum(axis=0) > CONSTRAINTS[k]):\n",
    "            valid = False\n",
    "    if np.any(solution.sum(axis=0) > 1):\n",
    "        valid = False\n",
    "    return valid\n",
    "\n",
    "print(\"Feasible initial solution:\", check_feasibility(solution))\n"
   ]
  },
  {
   "cell_type": "markdown",
   "id": "02125d94",
   "metadata": {},
   "source": [
    "## Problem 1: 0/1 Multi-Knapsack (Dynamic Programming Style)"
   ]
  },
  {
   "cell_type": "code",
   "execution_count": 3,
   "id": "392493fa",
   "metadata": {},
   "outputs": [
    {
     "name": "stdout",
     "output_type": "stream",
     "text": [
      "0/1 Knapsack value: 628\n",
      "Assignment:\n",
      " [[False False  True False False  True  True False False  True]\n",
      " [False  True False  True False False False  True  True False]]\n"
     ]
    }
   ],
   "source": [
    "\n",
    "# Simple 0/1 approach: try to fill each knapsack with items not exceeding constraints\n",
    "def multi_knapsack_01(values, weights, constraints):\n",
    "    num_knaps, num_items = constraints.shape[0], values.shape[0]\n",
    "    assignment = np.zeros((num_knaps, num_items), dtype=bool)\n",
    "    remaining = constraints.copy()\n",
    "    used = np.zeros(num_items, dtype=bool)\n",
    "\n",
    "    for k in range(num_knaps):\n",
    "        for i in np.argsort(-values):  # sort by value descending\n",
    "            if not used[i] and np.all(weights[i] <= remaining[k]):\n",
    "                assignment[k, i] = True\n",
    "                remaining[k] -= weights[i]\n",
    "                used[i] = True\n",
    "    total_value = (assignment * values).sum()\n",
    "    return assignment, total_value\n",
    "\n",
    "solution_01, val_01 = multi_knapsack_01(VALUES, WEIGHTS, CONSTRAINTS)\n",
    "print(\"0/1 Knapsack value:\", val_01)\n",
    "print(\"Assignment:\\n\", solution_01)\n"
   ]
  },
  {
   "cell_type": "markdown",
   "id": "a1cff083",
   "metadata": {},
   "source": [
    "## Problem 2: Fractional Multi-Knapsack (Greedy by Value/Weight Ratio)"
   ]
  },
  {
   "cell_type": "code",
   "execution_count": 5,
   "id": "eebe4fef",
   "metadata": {},
   "outputs": [
    {
     "name": "stdout",
     "output_type": "stream",
     "text": [
      "Fractional Knapsack total value: 845.1739130434783\n",
      "Assignment fractions:\n",
      " [[0.   0.   1.   0.   0.   1.   1.   0.   1.   0.5 ]\n",
      " [0.   0.   1.   0.   0.   1.   1.   0.   1.   0.93]]\n"
     ]
    }
   ],
   "source": [
    "\n",
    "def multi_knapsack_fractional(values, weights, constraints):\n",
    "    \"\"\"\n",
    "    Fractional multi-knapsack: items can be split across knapsacks.\n",
    "    Keeps 'remaining' as float to allow fractional subtraction.\n",
    "    \"\"\"\n",
    "    num_knaps, num_items = constraints.shape[0], values.shape[0]\n",
    "    assignment = np.zeros((num_knaps, num_items), dtype=float)\n",
    "    remaining = constraints.astype(float).copy()  # <-- float to avoid dtype clash\n",
    "\n",
    "    # simple density: value per total weight (sum across dimensions)\n",
    "    # guard against any zero-weight rows (shouldn't happen with current generator)\n",
    "    total_w = weights.sum(axis=1).astype(float)\n",
    "    total_w[total_w == 0] = np.finfo(float).eps\n",
    "    ratio = values / total_w\n",
    "    order = np.argsort(-ratio)  # descending\n",
    "\n",
    "    for i in order:\n",
    "        for k in range(num_knaps):\n",
    "            # max fraction that fits across all dimensions\n",
    "            # (avoid divide-by-zero; weights[i] > 0 in our generator)\n",
    "            frac_per_dim = remaining[k] / weights[i]\n",
    "            frac = float(np.minimum(1.0, frac_per_dim.min()))\n",
    "            if frac > 0:\n",
    "                assignment[k, i] += frac\n",
    "                remaining[k] -= weights[i] * frac  # this is float now\n",
    "                # clip tiny negative due to FP precision\n",
    "                remaining[k] = np.clip(remaining[k], 0.0, None)\n",
    "\n",
    "    total_value = float((assignment * values).sum())\n",
    "    return assignment, total_value\n",
    "\n",
    "# re-run:\n",
    "solution_frac, val_frac = multi_knapsack_fractional(VALUES, WEIGHTS, CONSTRAINTS)\n",
    "print(\"Fractional Knapsack total value:\", val_frac)\n",
    "print(\"Assignment fractions:\\n\", np.round(solution_frac, 2))\n",
    "\n"
   ]
  },
  {
   "cell_type": "markdown",
   "id": "66401a69",
   "metadata": {},
   "source": [
    "## Problem 3: Unbounded Multi-Knapsack (DP-style)"
   ]
  },
  {
   "cell_type": "code",
   "execution_count": 6,
   "id": "9b2eb4e9",
   "metadata": {},
   "outputs": [
    {
     "name": "stdout",
     "output_type": "stream",
     "text": [
      "Unbounded Knapsack value: 1141\n",
      "Assignments (counts):\n",
      " [[0 0 3 0 0 3 0 0 0 0]\n",
      " [0 0 2 0 0 5 0 0 0 0]]\n"
     ]
    }
   ],
   "source": [
    "\n",
    "# Unbounded: items can be reused across knapsacks\n",
    "def multi_knapsack_unbounded(values, weights, constraints):\n",
    "    num_knaps, num_items = constraints.shape[0], values.shape[0]\n",
    "    assignment = np.zeros((num_knaps, num_items), dtype=int)\n",
    "    remaining = constraints.copy()\n",
    "\n",
    "    for k in range(num_knaps):\n",
    "        while True:\n",
    "            best_item, best_ratio = -1, 0\n",
    "            for i in range(num_items):\n",
    "                ratio = values[i] / weights[i].sum()\n",
    "                if np.all(weights[i] <= remaining[k]) and ratio > best_ratio:\n",
    "                    best_ratio = ratio\n",
    "                    best_item = i\n",
    "            if best_item == -1:\n",
    "                break\n",
    "            assignment[k, best_item] += 1\n",
    "            remaining[k] -= weights[best_item]\n",
    "    total_value = (assignment * values).sum()\n",
    "    return assignment, total_value\n",
    "\n",
    "solution_unb, val_unb = multi_knapsack_unbounded(VALUES, WEIGHTS, CONSTRAINTS)\n",
    "print(\"Unbounded Knapsack value:\", val_unb)\n",
    "print(\"Assignments (counts):\\n\", solution_unb)\n"
   ]
  },
  {
   "cell_type": "markdown",
   "id": "2181e511",
   "metadata": {},
   "source": [
    "## Results Summary"
   ]
  },
  {
   "cell_type": "code",
   "execution_count": 7,
   "id": "17affd98",
   "metadata": {},
   "outputs": [
    {
     "name": "stdout",
     "output_type": "stream",
     "text": [
      "==== RESULTS SUMMARY ====\n",
      "0/1 knapsack value: 628\n",
      "Fractional knapsack value: 845.17\n",
      "Unbounded knapsack value: 1141\n"
     ]
    }
   ],
   "source": [
    "\n",
    "print(\"==== RESULTS SUMMARY ====\")\n",
    "print(f\"0/1 knapsack value: {val_01}\")\n",
    "print(f\"Fractional knapsack value: {val_frac:.2f}\")\n",
    "print(f\"Unbounded knapsack value: {val_unb}\")\n"
   ]
  },
  {
   "cell_type": "markdown",
   "id": "e6e74086",
   "metadata": {},
   "source": [
    "## Visualization: total value per knapsack"
   ]
  },
  {
   "cell_type": "code",
   "execution_count": 8,
   "id": "2c84a5c6",
   "metadata": {},
   "outputs": [
    {
     "data": {
      "image/png": "[encoded data removed]",
      "text/plain": [
       "<Figure size 640x480 with 1 Axes>"
      ]
     },
     "metadata": {},
     "output_type": "display_data"
    }
   ],
   "source": [
    "\n",
    "vals_01 = (solution_01 * VALUES).sum(axis=1)\n",
    "vals_frac = (solution_frac * VALUES).sum(axis=1)\n",
    "vals_unb = (solution_unb * VALUES).sum(axis=1)\n",
    "\n",
    "fig, ax = plt.subplots()\n",
    "x = np.arange(NUM_KNAPSACKS)\n",
    "width = 0.25\n",
    "ax.bar(x - width, vals_01, width, label='0/1')\n",
    "ax.bar(x, vals_frac, width, label='Fractional')\n",
    "ax.bar(x + width, vals_unb, width, label='Unbounded')\n",
    "ax.set_xticks(x)\n",
    "ax.set_xlabel('Knapsack Index')\n",
    "ax.set_ylabel('Total Value')\n",
    "ax.legend()\n",
    "plt.show()\n"
   ]
  },
  {
   "cell_type": "code",
   "execution_count": null,
   "id": "3f634945-3cc0-4b67-a551-de15d9b1fb78",
   "metadata": {},
   "outputs": [],
   "source": []
  }
 ],
 "metadata": {
  "kernelspec": {
   "display_name": "Python 3 (ipykernel)",
   "language": "python",
   "name": "python3"
  },
  "language_info": {
   "codemirror_mode": {
    "name": "ipython",
    "version": 3
   },
   "file_extension": ".py",
   "mimetype": "text/x-python",
   "name": "python",
   "nbconvert_exporter": "python",
   "pygments_lexer": "ipython3",
   "version": "3.13.1"
  }
 },
 "nbformat": 4,
 "nbformat_minor": 5
}
